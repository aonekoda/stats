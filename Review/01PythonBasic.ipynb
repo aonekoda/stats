{
  "nbformat": 4,
  "nbformat_minor": 0,
  "metadata": {
    "colab": {
      "name": "Exercise01.ipynb",
      "provenance": [],
      "collapsed_sections": []
    },
    "kernelspec": {
      "display_name": "Python 3",
      "language": "python",
      "name": "python3"
    },
    "language_info": {
      "codemirror_mode": {
        "name": "ipython",
        "version": 3
      },
      "file_extension": ".py",
      "mimetype": "text/x-python",
      "name": "python",
      "nbconvert_exporter": "python",
      "pygments_lexer": "ipython3",
      "version": "3.7.6"
    }
  },
  "cells": [
    {
      "cell_type": "markdown",
      "metadata": {
        "id": "raCVgtYPPiRl"
      },
      "source": [
        "# 파이썬 기본 문법 복습"
      ]
    },
    {
      "cell_type": "markdown",
      "metadata": {
        "id": "ScVdvuVVChpe"
      },
      "source": [
        "## 변수 \n",
        "* 변수란 데이터를 담는 메모리 공간\n",
        "* 숫자형\n",
        "    * 정수(int)와 실수(float) 형이 있다.\n",
        "    * 산술연산이 가능하다. \n",
        "* 논리형\n",
        "    * 참 거짓을 표현 하는 값\n",
        "    * 값(Value)\n",
        "        - True : 참\n",
        "        - False : 거짓\n",
        "    * 주로 조건문에서 많이 사용\n",
        "* 문자형\n",
        "    * 작은 따옴표나 큰 따옴표로 감싼다.\n",
        "    * 여러 줄 문자열 : ''' 또는 \"\"\" 으로 감싼다. (따옴표 세 개)\n",
        "    * 문자열 indexing, slicing\n",
        "        * 문자열의 각 문자는 index 번호를 가진다.\n",
        "        * 인덱싱 : 문자열의 index를 이용해 문자를 조회한다.\n",
        "        * 슬라이싱 : 문자열의 index의 범위로 문자열을 조회 한다.\n",
        "\n"
      ]
    },
    {
      "cell_type": "markdown",
      "metadata": {
        "id": "wTWHF0KHDpbs"
      },
      "source": [
        "## 자료구조\n",
        "\n",
        "### 리스트(list)\n",
        "* 값을 순서대로 모아서 관리하는 구조 \n",
        "```\n",
        "list1 = [1,2,3,4,5,6,7,8,9,10]\n",
        "list2 = ['a','b','c','d','e','f','g']\n",
        "list3 = [20.7, 20.8, 30.7, 28.5, 92.6]\n",
        "```\n",
        "* 메소드를 사용할 수 있다.\n",
        "\n",
        "### 튜플(tuple)\n",
        "\n",
        "* 리스트와 다른 점은 원소를 변경할 수 없다.\n",
        "```\n",
        "a = (10, 20, 30, 40, 50)\n",
        "b = 10, 20, 30, 40, 50\n",
        "c = (‘가’, ’나’, ’다’)\n",
        "d = ‘가’, ‘나, ‘다’\n",
        "```\n",
        "### 딕셔너리(dictionary)\n",
        "\n",
        "* 딕셔너리는 값을 키(key)-값(value) 쌍의 형태로 저장하는 자료구조이다.\n",
        "```\n",
        "fruit_cnt = {'사과' : 20, '귤' : 10, ‘참외' : 13} \n",
        "fruit_cnt['사과’]\t#=> 20\n",
        "fruit_cnt['수박'] = 50\t#=> 수박은 없는 키이므로 추가\n",
        "fruit_cnt['사과'] = 35\t#=> 사과는 있는 키이므로 변경\n",
        "```\n",
        "### 집합(set)\n",
        "\n",
        "* Set은 반복되는 값을 허용하지 않고 순서를 신경 쓰지 않는다.\n",
        "```\n",
        "set1 = { 1, 2, 3, 4, 5}\n",
        "set2 = {1, 2, 2, 2, 3}\n",
        "```\n"
      ]
    },
    {
      "cell_type": "markdown",
      "metadata": {
        "id": "ATadpAFbGP4M"
      },
      "source": [
        "## 제어문\n",
        "### 조건문\n",
        "* 프로그램이 명령문들을 실행하는 도중 특정 순서에서 흐름의 나눠져야 하는 경우\n",
        "사용한다.\n",
        "```\n",
        "if 조건 :\n",
        "    명령문1-1  \n",
        "    명령문1-2\n",
        "….\n",
        "else :\n",
        "    명령문2-1  \n",
        "    명령문2-2\n",
        "….\n",
        "```\n",
        "### 반복문\n",
        "* while 문 : 특정 조건이 True인 동안 명령문을 반복해서 실행한다.\n",
        "* for 문 : Iterable한 객체가 값이 없을 때까지 반복 조회한다.\n",
        "```\n",
        "for num in (1, 2, 3, 4, 5) :\n",
        "    print(num)\n",
        "```"
      ]
    },
    {
      "cell_type": "markdown",
      "metadata": {
        "id": "a1LBYR13G90D"
      },
      "source": [
        "## 함수 \n",
        "* 함수를 생성하는 것을 함수를 정의(define)한다고 하고 함수를 실행하는 것을 함수를 호출(call)한다고 한다.\n",
        "```\n",
        "def my_sum (num1, num2) :  \n",
        "    result = num1 + num2  \n",
        "    return result\n",
        "```"
      ]
    },
    {
      "cell_type": "markdown",
      "metadata": {
        "id": "I0VxNgsuPvYZ"
      },
      "source": [
        "### Q1 문자열 바꾸기\n",
        "다음과 같은 문자열이 있다.\n",
        "```\n",
        "a:b:c:d\n",
        "```\n",
        "문자열의 split와 join 함수를 사용하여 위 문자열을 다음과 같이 고치시오.\n",
        "```\n",
        "`a#b#c#d`\n",
        "```"
      ]
    },
    {
      "cell_type": "code",
      "metadata": {
        "id": "Nlm7szZzPK6Q"
      },
      "source": [
        ""
      ],
      "execution_count": null,
      "outputs": []
    },
    {
      "cell_type": "markdown",
      "metadata": {
        "id": "aRv_5CznQGjG"
      },
      "source": [
        "### Q2 딕셔너리 값 추출하기\n",
        "\n",
        "다음은 딕셔너리의 a에서 'C'라는 key에 해당하는 value를 출력하는 프로그램이다.\n",
        "```\n",
        ">>> a = {'A':90, 'B':80}\n",
        ">>> a['C']\n",
        "Traceback (most recent call last):\n",
        "  File \"<stdin>\", line 1, in <module>\n",
        "KeyError: 'C'\n",
        "```\n",
        "\n",
        "a 딕셔너리에는 'C'라는 key가 없으므로 위와 같은 오류가 발생한다. \n",
        "\n",
        "'C'에 해당하는 key 값이 없을 경우 오류 대신 70을 얻을 수 있도록 수정하시오.(힌트 get() 메소드)"
      ]
    },
    {
      "cell_type": "code",
      "metadata": {
        "id": "Yy9c272mQQE7"
      },
      "source": [
        ""
      ],
      "execution_count": null,
      "outputs": []
    },
    {
      "cell_type": "markdown",
      "metadata": {
        "id": "ZXwU6VL1ToC2"
      },
      "source": [
        "### Q3 리스트의 더하기와 extend 함수\n",
        "\n",
        "다음과 같은 리스트 a가 있다.\n",
        "```\n",
        ">>> a = [1, 2, 3]\n",
        ">>> a = a + [4,5]\n",
        ">>> a.extend([4, 5])\n",
        "```\n",
        "\n",
        "'+' 기호를 사용하여 더한 것과 extend한 것의 차이점이 있을까? 있다면 그 차이점을 설명하시오."
      ]
    },
    {
      "cell_type": "code",
      "metadata": {
        "id": "lt2NjzkvUIXh"
      },
      "source": [
        ""
      ],
      "execution_count": null,
      "outputs": []
    },
    {
      "cell_type": "markdown",
      "metadata": {
        "id": "CcFUiWawUIyN"
      },
      "source": [
        "### Q4 반복문\n",
        "\n",
        "1 ~ 10까지의 숫자에 대해 모두 더한 값을 출력하는 프로그램을 for 문을 사용하여 작성하시오.\n",
        "\n"
      ]
    },
    {
      "cell_type": "code",
      "metadata": {
        "id": "bMzR9P5gUctH"
      },
      "source": [
        ""
      ],
      "execution_count": null,
      "outputs": []
    },
    {
      "cell_type": "markdown",
      "metadata": {
        "id": "MruQJN5lUc2z"
      },
      "source": [
        "### Q5 반복문과 조건문\n",
        "\n",
        "1부터 30까지의 숫자 중 3의 배수만 출력하는 코드를 작성하시오."
      ]
    },
    {
      "cell_type": "code",
      "metadata": {
        "id": "7Ayuf4F0UowG"
      },
      "source": [
        ""
      ],
      "execution_count": null,
      "outputs": []
    },
    {
      "cell_type": "markdown",
      "metadata": {
        "id": "Skimr74MUsB6"
      },
      "source": [
        "### Q6 피보나치 함수\n",
        "\n",
        "첫 번째 항의 값이 0이고 두 번째 항의 값이 1일 때, 이후에 이어지는 항은 이전의 두 항을 더한 값으로 이루어지는 수열을 피보나치 수열이라고 한다.\n",
        "```\n",
        "0, 1, 1, 2, 3, 5, 8, 13, ...\n",
        "```\n",
        "입력을 정수 n으로 받았을 때, n 이하까지의 피보나치 수열을 출력하는 함수를 작성해 보자."
      ]
    },
    {
      "cell_type": "code",
      "metadata": {
        "id": "CkVZmMpyUyMu"
      },
      "source": [
        ""
      ],
      "execution_count": null,
      "outputs": []
    },
    {
      "cell_type": "markdown",
      "metadata": {
        "id": "hFm_LaDpU7lU"
      },
      "source": [
        "### Q7 반복문\n",
        "\n",
        " A 학급에 총 10명의 학생이 있다. 이 학생들의 중간고사 점수는 다음과 같다.\n",
        " ```\n",
        ">>> A = [70, 60, 55, 75, 95, 90, 80, 80, 85, 100]\n",
        "```\n",
        "for문을 이용하여 A 학급의 평균 점수를 구해보자.\n"
      ]
    },
    {
      "cell_type": "code",
      "metadata": {
        "id": "M3g6VV0vVJoR"
      },
      "source": [
        ""
      ],
      "execution_count": null,
      "outputs": []
    },
    {
      "cell_type": "markdown",
      "metadata": {
        "id": "QU6MBo0ZVJv8"
      },
      "source": [
        "### Q8 파일의 입출력 활용\n",
        "\n",
        "아래와 같이 이루어진 sample.txt 파일을 작성하라. (write 함수 사용)\n",
        "```\n",
        "70\n",
        "60\n",
        "55\n",
        "75\n",
        "95\n",
        "90\n",
        "80\n",
        "100\n",
        "```\n",
        "\n",
        "이제 sample.txt 파일의 숫자값을 모두 읽어 총합과 평균값을 구한 후 평균값을 \n",
        "result.txt라는 파일에 쓰는 프로그램을 작성해 보자.\n"
      ]
    },
    {
      "cell_type": "markdown",
      "metadata": {
        "id": "uq7OXvV4Vtci"
      },
      "source": [
        "### Q9 리스트 총합 구하기\n",
        "\n",
        "다음은 A학급 학생의 점수를 나타내는 리스트이다. 다음 리스트에서 50점 이상 점수의 총합을 구하시오.\n",
        "```\n",
        "A = [20, 55, 67, 82, 45, 33, 90, 87, 100, 25]\n",
        "```"
      ]
    },
    {
      "cell_type": "code",
      "metadata": {
        "id": "s9-LyLuYV-41"
      },
      "source": [
        ""
      ],
      "execution_count": null,
      "outputs": []
    },
    {
      "cell_type": "markdown",
      "metadata": {
        "id": "KmIRZpXpV_EX"
      },
      "source": [
        "### Q10 list comprehension\n",
        "\n",
        "리스트 중에서 홀수에만 2를 곱하여 저장하는 다음 코드가 있다.\n",
        "```\n",
        "numbers = [1, 2, 3, 4, 5]\n",
        "result = []\n",
        "for n in numbers:\n",
        "    if n % 2 == 1:\n",
        "        result.append(n*2)\n",
        "```\n",
        "위 코드를 list comprehension를 사용하여 표현해 보자."
      ]
    },
    {
      "cell_type": "code",
      "metadata": {
        "id": "hfCjGRuZWkI1"
      },
      "source": [
        ""
      ],
      "execution_count": null,
      "outputs": []
    }
  ]
}