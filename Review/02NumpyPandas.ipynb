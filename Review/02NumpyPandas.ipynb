{
  "nbformat": 4,
  "nbformat_minor": 0,
  "metadata": {
    "colab": {
      "name": "Exercise02.ipynb",
      "provenance": [],
      "collapsed_sections": []
    },
    "kernelspec": {
      "display_name": "Python 3",
      "language": "python",
      "name": "python3"
    },
    "language_info": {
      "codemirror_mode": {
        "name": "ipython",
        "version": 3
      },
      "file_extension": ".py",
      "mimetype": "text/x-python",
      "name": "python",
      "nbconvert_exporter": "python",
      "pygments_lexer": "ipython3",
      "version": "3.7.6"
    }
  },
  "cells": [
    {
      "cell_type": "markdown",
      "metadata": {
        "id": "I-OVHaX9enRv"
      },
      "source": [
        "# NumPy, Pandas 복습"
      ]
    },
    {
      "cell_type": "markdown",
      "metadata": {
        "id": "iJtyneWAI1Ha"
      },
      "source": [
        "## Numpy\n",
        "\n",
        "* C로 구현된 고성능 수치계산을 위한 라이브러리.\n",
        "* 벡터, 행렬 연산관련 다양한 기능을 제공.\n",
        "* Numpy 그 자체로는 고수준의 데이터 분석 기능을 제공하지 않지만 배열과 배열 기반의 연산을 이해한다면 Pandas 같은 도구를 좀 더 효율적으로 사용할 수 있다.\n",
        "* 데이터 분석을 위해 다음과 같은 기능이 사용된다.\n",
        "    * 배열 상에서 데이터 변형, 정제, 부분 집합, 필터링, 여러가지 연산의 빠른 수행\n",
        "    * 정렬, 유일 원소 찾기 집합 연산 같은 일반적인 배열 처리 기능.\n",
        "    * 통계의 효과적인 표현과 데이터의 수집/요약\n",
        "    * 데이터 그룹에 함수 적용등 데이터 처리\n",
        "    * Numpy와 Pandas는 데이터 분석에 자주 같이 사용된다. \n",
        "* Numpy의 핵심 기능 중 하나는 N차원의 배열 또는 ndarray로 파이썬에서 사용할 수 있는 데이터 집합을 담을 수 있는 빠르고 유연한 자료 구조다. \n"
      ]
    },
    {
      "cell_type": "markdown",
      "metadata": {
        "id": "RjCo3jrpfJ0l"
      },
      "source": [
        "### NumPy 실습 문제\n",
        "\n",
        "\n",
        "문제 1.\n",
        "\n",
        "길이가 10인 0-벡터(모든 요소가 0인)를 만드세요.\n",
        "\n"
      ]
    },
    {
      "cell_type": "code",
      "metadata": {
        "id": "7HJCoRUo0-Kj"
      },
      "source": [
        ""
      ],
      "execution_count": null,
      "outputs": []
    },
    {
      "cell_type": "markdown",
      "metadata": {
        "id": "jBqZrWqqiFk_"
      },
      "source": [
        " 문제 2.\n",
        "\n",
        "길이가 10이며 다섯번째 원소만 1이고 나머지 원소는 모두 0인 벡터를 만드세요.\n",
        "\n"
      ]
    },
    {
      "cell_type": "code",
      "metadata": {
        "id": "Na01fyVf0-jS"
      },
      "source": [
        ""
      ],
      "execution_count": null,
      "outputs": []
    },
    {
      "cell_type": "markdown",
      "metadata": {
        "id": "BoYSsYGhiIef"
      },
      "source": [
        "문제 3.\n",
        "\n",
        "10 부터 49까지의 값을 가지는 벡터를 만드세요.\n",
        "\n"
      ]
    },
    {
      "cell_type": "code",
      "metadata": {
        "id": "tUb4Oroe0_FK"
      },
      "source": [
        ""
      ],
      "execution_count": null,
      "outputs": []
    },
    {
      "cell_type": "markdown",
      "metadata": {
        "id": "xlZ0xpKMiNGN"
      },
      "source": [
        "문제 4.\n",
        "\n",
        "위 벡터의 순서를 바꾸세요.\n",
        "\n"
      ]
    },
    {
      "cell_type": "code",
      "metadata": {
        "id": "QlB6jHE10_nI"
      },
      "source": [
        ""
      ],
      "execution_count": null,
      "outputs": []
    },
    {
      "cell_type": "markdown",
      "metadata": {
        "id": "zxiD5ItZiPta"
      },
      "source": [
        "문제 5.\n",
        "\n",
        "0부터 8까지의 값을 가지는 3x3 행렬을 만드세요.\n",
        "\n"
      ]
    },
    {
      "cell_type": "code",
      "metadata": {
        "id": "M9i-9Tzz0_-M"
      },
      "source": [
        ""
      ],
      "execution_count": null,
      "outputs": []
    },
    {
      "cell_type": "markdown",
      "metadata": {
        "id": "0RSXeMRviR75"
      },
      "source": [
        "문제 6.\n",
        "\n",
        "벡터 [1,2,0,0,4,0] 에서 원소의 값이 0이 아닌 원소만 선택한 벡터를 만드세요.\n",
        "\n"
      ]
    },
    {
      "cell_type": "code",
      "metadata": {
        "id": "ZLh_tgKr1Aef"
      },
      "source": [
        ""
      ],
      "execution_count": null,
      "outputs": []
    },
    {
      "cell_type": "markdown",
      "metadata": {
        "id": "FpjT4iZUiUkG"
      },
      "source": [
        "문제 7.\n",
        "\n",
        "3x3 단위 행렬(identity matrix, 주대각선의 원소가 모두 1이며 나머지 원소는 모두 0인)을 만드세요\n",
        "\n"
      ]
    },
    {
      "cell_type": "code",
      "metadata": {
        "id": "b1r57MrO1A9l"
      },
      "source": [
        ""
      ],
      "execution_count": null,
      "outputs": []
    },
    {
      "cell_type": "markdown",
      "metadata": {
        "id": "TbnT-pA4iWkl"
      },
      "source": [
        "문제 8.\n",
        "\n",
        "난수 원소를 가지는 3x3 행렬을 만드세요\n",
        "\n"
      ]
    },
    {
      "cell_type": "code",
      "metadata": {
        "id": "jQoqkFko1Bat"
      },
      "source": [
        ""
      ],
      "execution_count": null,
      "outputs": []
    },
    {
      "cell_type": "markdown",
      "metadata": {
        "id": "F0mr3gNHiYkY"
      },
      "source": [
        "문제 9.\n",
        "\n",
        "위에서 만든 난수 행렬에서 최대값/최소값 원소를 찾으세요.\n",
        "\n"
      ]
    },
    {
      "cell_type": "code",
      "metadata": {
        "id": "x4WNmwW81B4F"
      },
      "source": [
        ""
      ],
      "execution_count": null,
      "outputs": []
    },
    {
      "cell_type": "markdown",
      "metadata": {
        "id": "tbaqoKpniawg"
      },
      "source": [
        "문제 10.\n",
        "\n",
        "위에서 만든 난수 행렬에서 행 평균, 열 평균을 계산하세요."
      ]
    },
    {
      "cell_type": "code",
      "metadata": {
        "id": "LlCDgQoU1Clm"
      },
      "source": [
        ""
      ],
      "execution_count": null,
      "outputs": []
    },
    {
      "cell_type": "markdown",
      "metadata": {
        "id": "MHxdnLnMJnFD"
      },
      "source": [
        "## Pandas 판다스\n",
        "* 데이터 분석과 관련된 다양한 기능을 제공하는 파이썬 패키지\n",
        "* 데이터 셋을 이용한 다양한 통계 처리 기능을 제공한다.\n",
        "* 표 형태의 데이터를 다루는데 특화된 파이썬 모듈.\n",
        "* 표 형태의 데이터를 다루기 위한 시리즈(Series)와 데이터프레임(DataFrame) 클래스 제공\n",
        "* Series\n",
        "    * 1차원 리스트 데이터.\n",
        "    * DataFrame(표)의 한 행이나 한 열을 표현한다.\n",
        "    * 각 원소는 index로 접근할 수 있다.\n",
        "\n",
        "* Dataframe\n",
        "    * DataFrame 란 2차원 행렬 형태의 표\n",
        "    * 데이터베이스의 Table이나 R의 data.frame과 동일한 역할.\n",
        "    * 행과 열에 이름이 되는 index가 붙으며 지정하지 않으면 0 부터 시작하는 정수 index가 붙는다.\n",
        "    * 주로 데이터 셋을 파일(csv, 엑셀)로 부터 읽어온 결과로 사용된다.\n",
        "\n"
      ]
    },
    {
      "cell_type": "markdown",
      "metadata": {
        "id": "y0fFRV3_1Ddi"
      },
      "source": [
        "# Pandas 실습문제\n",
        "\n",
        "다음의 코드를 실행하여 샘플 데이터를 생성하시오.\n",
        "\n",
        "seaborn 패키지에 있는 타이타닉 데이터를 사용하여 실습한다. 필요한 데이터를 로드한다."
      ]
    },
    {
      "cell_type": "code",
      "metadata": {
        "id": "a0n_T0I11Kd_",
        "outputId": "cc3e248d-ee77-4a25-cf17-7f7323ff5101",
        "colab": {
          "base_uri": "https://localhost:8080/",
          "height": 204
        }
      },
      "source": [
        "import pandas as pd\n",
        "titanic = pd.read_csv(\"../data/titanic.csv\")\n",
        "\n",
        "titanic.head()"
      ],
      "execution_count": null,
      "outputs": [
        {
          "output_type": "execute_result",
          "data": {
            "text/html": [
              "<div>\n",
              "<style scoped>\n",
              "    .dataframe tbody tr th:only-of-type {\n",
              "        vertical-align: middle;\n",
              "    }\n",
              "\n",
              "    .dataframe tbody tr th {\n",
              "        vertical-align: top;\n",
              "    }\n",
              "\n",
              "    .dataframe thead th {\n",
              "        text-align: right;\n",
              "    }\n",
              "</style>\n",
              "<table border=\"1\" class=\"dataframe\">\n",
              "  <thead>\n",
              "    <tr style=\"text-align: right;\">\n",
              "      <th></th>\n",
              "      <th>survived</th>\n",
              "      <th>pclass</th>\n",
              "      <th>sex</th>\n",
              "      <th>age</th>\n",
              "      <th>sibsp</th>\n",
              "      <th>parch</th>\n",
              "      <th>fare</th>\n",
              "      <th>embarked</th>\n",
              "      <th>class</th>\n",
              "      <th>who</th>\n",
              "      <th>adult_male</th>\n",
              "      <th>deck</th>\n",
              "      <th>embark_town</th>\n",
              "      <th>alive</th>\n",
              "      <th>alone</th>\n",
              "    </tr>\n",
              "  </thead>\n",
              "  <tbody>\n",
              "    <tr>\n",
              "      <th>0</th>\n",
              "      <td>0</td>\n",
              "      <td>3</td>\n",
              "      <td>male</td>\n",
              "      <td>22.0</td>\n",
              "      <td>1</td>\n",
              "      <td>0</td>\n",
              "      <td>7.2500</td>\n",
              "      <td>S</td>\n",
              "      <td>Third</td>\n",
              "      <td>man</td>\n",
              "      <td>True</td>\n",
              "      <td>NaN</td>\n",
              "      <td>Southampton</td>\n",
              "      <td>no</td>\n",
              "      <td>False</td>\n",
              "    </tr>\n",
              "    <tr>\n",
              "      <th>1</th>\n",
              "      <td>1</td>\n",
              "      <td>1</td>\n",
              "      <td>female</td>\n",
              "      <td>38.0</td>\n",
              "      <td>1</td>\n",
              "      <td>0</td>\n",
              "      <td>71.2833</td>\n",
              "      <td>C</td>\n",
              "      <td>First</td>\n",
              "      <td>woman</td>\n",
              "      <td>False</td>\n",
              "      <td>C</td>\n",
              "      <td>Cherbourg</td>\n",
              "      <td>yes</td>\n",
              "      <td>False</td>\n",
              "    </tr>\n",
              "    <tr>\n",
              "      <th>2</th>\n",
              "      <td>1</td>\n",
              "      <td>3</td>\n",
              "      <td>female</td>\n",
              "      <td>26.0</td>\n",
              "      <td>0</td>\n",
              "      <td>0</td>\n",
              "      <td>7.9250</td>\n",
              "      <td>S</td>\n",
              "      <td>Third</td>\n",
              "      <td>woman</td>\n",
              "      <td>False</td>\n",
              "      <td>NaN</td>\n",
              "      <td>Southampton</td>\n",
              "      <td>yes</td>\n",
              "      <td>True</td>\n",
              "    </tr>\n",
              "    <tr>\n",
              "      <th>3</th>\n",
              "      <td>1</td>\n",
              "      <td>1</td>\n",
              "      <td>female</td>\n",
              "      <td>35.0</td>\n",
              "      <td>1</td>\n",
              "      <td>0</td>\n",
              "      <td>53.1000</td>\n",
              "      <td>S</td>\n",
              "      <td>First</td>\n",
              "      <td>woman</td>\n",
              "      <td>False</td>\n",
              "      <td>C</td>\n",
              "      <td>Southampton</td>\n",
              "      <td>yes</td>\n",
              "      <td>False</td>\n",
              "    </tr>\n",
              "    <tr>\n",
              "      <th>4</th>\n",
              "      <td>0</td>\n",
              "      <td>3</td>\n",
              "      <td>male</td>\n",
              "      <td>35.0</td>\n",
              "      <td>0</td>\n",
              "      <td>0</td>\n",
              "      <td>8.0500</td>\n",
              "      <td>S</td>\n",
              "      <td>Third</td>\n",
              "      <td>man</td>\n",
              "      <td>True</td>\n",
              "      <td>NaN</td>\n",
              "      <td>Southampton</td>\n",
              "      <td>no</td>\n",
              "      <td>True</td>\n",
              "    </tr>\n",
              "  </tbody>\n",
              "</table>\n",
              "</div>"
            ],
            "text/plain": [
              "   survived  pclass     sex   age  ...  deck  embark_town  alive  alone\n",
              "0         0       3    male  22.0  ...   NaN  Southampton     no  False\n",
              "1         1       1  female  38.0  ...     C    Cherbourg    yes  False\n",
              "2         1       3  female  26.0  ...   NaN  Southampton    yes   True\n",
              "3         1       1  female  35.0  ...     C  Southampton    yes  False\n",
              "4         0       3    male  35.0  ...   NaN  Southampton     no   True\n",
              "\n",
              "[5 rows x 15 columns]"
            ]
          },
          "metadata": {
            "tags": []
          },
          "execution_count": 7
        }
      ]
    },
    {
      "cell_type": "markdown",
      "metadata": {
        "id": "Gdn78u7c2sb_"
      },
      "source": [
        "문제 1. \n",
        "\n",
        "타이타닉호 승객중 성별(sex) 인원수, 나이별(age) 인원수, 선실별(class) 인원수, 사망/생존(alive) 인원수를 구하라. (힌트. value_counts 메소드)"
      ]
    },
    {
      "cell_type": "code",
      "metadata": {
        "id": "iSTAR-c33YcM"
      },
      "source": [
        ""
      ],
      "execution_count": null,
      "outputs": []
    },
    {
      "cell_type": "markdown",
      "metadata": {
        "id": "HT6WffB45jrc"
      },
      "source": [
        "문제 2.\n",
        "\n",
        "성별(sex) 및 선실(class)에 의한 생존율을 피봇 데이터 형태로 만들어 표시하시오.(힌트. pivot_table)"
      ]
    },
    {
      "cell_type": "code",
      "metadata": {
        "id": "Mh2eWUA6TgZX"
      },
      "source": [
        ""
      ],
      "execution_count": null,
      "outputs": []
    },
    {
      "cell_type": "markdown",
      "metadata": {
        "id": "G169SxRZTgwv"
      },
      "source": [
        "문제 3. \n",
        "\n",
        "'age' 컬럼의 null 값을 'age'의 median 값으로 대체하시오.(fillna 사용)"
      ]
    },
    {
      "cell_type": "code",
      "metadata": {
        "id": "iIkhbfSwV17P"
      },
      "source": [
        ""
      ],
      "execution_count": null,
      "outputs": []
    },
    {
      "cell_type": "markdown",
      "metadata": {
        "id": "eCxEZJxhZnDF"
      },
      "source": [
        "문제 4.\n",
        "\n",
        "가장 고액의 운임(fare)를 지불한 승객에 대한 정보를 출력하시오."
      ]
    },
    {
      "cell_type": "code",
      "metadata": {
        "id": "7JiOjTG8aTyj"
      },
      "source": [
        ""
      ],
      "execution_count": null,
      "outputs": []
    },
    {
      "cell_type": "markdown",
      "metadata": {
        "id": "YjuDkHXnaT83"
      },
      "source": [
        "문제 5.\n",
        "\n",
        "승객의 나이('age')의 평균을 구하시오."
      ]
    },
    {
      "cell_type": "code",
      "metadata": {
        "id": "74jE-pkaa-Pv"
      },
      "source": [
        ""
      ],
      "execution_count": null,
      "outputs": []
    },
    {
      "cell_type": "markdown",
      "metadata": {
        "id": "ltsYSMtHa-Xa"
      },
      "source": [
        "문제 6. \n",
        "\n",
        "'embark_town' 이 'Queenstown' 이면서 생존한 남성 승객에 대한 정보를 출력하시오."
      ]
    },
    {
      "cell_type": "code",
      "metadata": {
        "id": "QCO_s4RBdovs"
      },
      "source": [
        ""
      ],
      "execution_count": null,
      "outputs": []
    }
  ]
}